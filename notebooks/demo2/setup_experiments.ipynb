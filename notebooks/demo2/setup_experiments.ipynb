{
 "cells": [
  {
   "cell_type": "markdown",
   "id": "de3d1d2f-b8a7-4509-866e-0a7b287522ab",
   "metadata": {},
   "source": [
    "# Setup experiments \n",
    "This notebook helps users to create a dedicated space on the bucket with source data to run their instance of the demo."
   ]
  },
  {
   "cell_type": "code",
   "execution_count": 1,
   "id": "ba241ee4-b6f0-445c-a785-1abd6825f6a5",
   "metadata": {},
   "outputs": [],
   "source": [
    "# Author: ALLIANZ NLP esg data pipeline\n",
    "import os\n",
    "import pathlib\n",
    "from dotenv import load_dotenv\n",
    "from src.data.s3_communication import S3Communication\n",
    "import tempfile\n",
    "from enum import Enum\n",
    "import config"
   ]
  },
  {
   "cell_type": "code",
   "execution_count": 2,
   "id": "5bde2633-4763-430c-b458-bec9f59663fb",
   "metadata": {},
   "outputs": [],
   "source": [
    "# Load credentials\n",
    "dotenv_dir = os.environ.get(\n",
    "    \"CREDENTIAL_DOTENV_DIR\", os.environ.get(\"PWD\", \"/opt/app-root/src\")\n",
    ")\n",
    "dotenv_path = pathlib.Path(dotenv_dir) / \"credentials.env\"\n",
    "if os.path.exists(dotenv_path):\n",
    "    load_dotenv(dotenv_path=dotenv_path, override=True)\n",
    "\n",
    "# S3 connecter for the bucket with source data\n",
    "s3c = S3Communication(\n",
    "    s3_endpoint_url=os.getenv(\"S3_ENDPOINT\"),\n",
    "    aws_access_key_id=os.getenv(\"AWS_ACCESS_KEY_ID\"),\n",
    "    aws_secret_access_key=os.getenv(\"AWS_SECRET_ACCESS_KEY\"),\n",
    "    s3_bucket=os.getenv(\"S3_BUCKET\"),\n",
    ")"
   ]
  },
  {
   "cell_type": "markdown",
   "id": "63d96e88-ec84-407d-a543-e5ee35215e3d",
   "metadata": {},
   "source": [
    "# Select experiment name and sample size"
   ]
  },
  {
   "cell_type": "code",
   "execution_count": 3,
   "id": "57f105e4-a702-499b-b48b-538eb9a5cf21",
   "metadata": {},
   "outputs": [],
   "source": [
    "class ExperimentSampleSize(Enum):\n",
    "    '''\n",
    "    small will get 1 pdf for the experimemt (few seconds)\n",
    "    medium will get 10 pdfs for the experimemt (few seconds)\n",
    "    large will get 145 pdfs for the experimemt (few mins)\n",
    "    '''\n",
    "    small = 1\n",
    "    medium = 10\n",
    "    large = 145\n",
    "\n",
    "\n",
    "# Set the experiment name here; this will be the prefix for your experiment files on s3\n",
    "EXPERIMENT_NAME = \"test-demo-4\"\n",
    "\n",
    "# Set the sample size of the data you want to run the demo for:\n",
    "SAMPLE_SIZE = ExperimentSampleSize.medium\n",
    "assert(SAMPLE_SIZE.name==config.SAMPLE_SIZE)"
   ]
  },
  {
   "cell_type": "markdown",
   "id": "5283e1af-c7fb-4ade-af5e-9a8780ce4d29",
   "metadata": {},
   "source": [
    "# Data Transfer"
   ]
  },
  {
   "cell_type": "code",
   "execution_count": 4,
   "id": "45b61d65-79eb-46a5-9723-c893c1d2caa5",
   "metadata": {},
   "outputs": [],
   "source": [
    "# Based on user selection, set the right urls\n",
    "SOURCE_DATA_PREFIX = \"aicoe-osc-demo/pipeline_run\"\n",
    "DESTINATION_DATA_PREFIX = EXPERIMENT_NAME + \"/pipeline_run\"\n",
    "\n",
    "SOURCE_DATA = f\"{SOURCE_DATA_PREFIX}/samples_{SAMPLE_SIZE.value}/pdfs\"\n",
    "DESTINATION_DATA = f\"{DESTINATION_DATA_PREFIX}/{SAMPLE_SIZE.name}/pdfs\"\n",
    "SOURCE_ANNOTATIONS = f\"{SOURCE_DATA_PREFIX}/samples_{SAMPLE_SIZE.value}/annotations\"\n",
    "DESTINATION_ANNOTATIONS = f\"{DESTINATION_DATA_PREFIX}/{SAMPLE_SIZE.name}/annotations\""
   ]
  },
  {
   "cell_type": "code",
   "execution_count": 5,
   "id": "420ea38d-6b06-4031-96a5-9032819bac66",
   "metadata": {},
   "outputs": [],
   "source": [
    "# Copy files from source to user directory\n",
    "with tempfile.TemporaryDirectory() as tmpdirname:\n",
    "    s3c.download_files_in_prefix_to_dir(SOURCE_DATA, tmpdirname)\n",
    "    s3c.upload_files_in_dir_to_prefix(tmpdirname, DESTINATION_DATA)\n",
    "with tempfile.TemporaryDirectory() as tmpdirname:\n",
    "    s3c.download_files_in_prefix_to_dir(SOURCE_ANNOTATIONS, tmpdirname)\n",
    "    s3c.upload_files_in_dir_to_prefix(tmpdirname, DESTINATION_ANNOTATIONS)\n",
    "with tempfile.TemporaryDirectory() as tmpdirname:\n",
    "    s3c.download_files_in_prefix_to_dir(\"aicoe-osc-demo/kpi_mapping\", tmpdirname)\n",
    "    s3c.upload_files_in_dir_to_prefix(tmpdirname, f\"{EXPERIMENT_NAME}/kpi_mapping\")"
   ]
  },
  {
   "cell_type": "markdown",
   "id": "537e653e-b6ab-403e-9cb7-d5035c7208f1",
   "metadata": {},
   "source": [
    "We created a space for storing outputs based on the experiment name selected by the user. **The next important thing is to edit the config.py file to reflect the link we created in this notebook. The DATA_S3_PREFIX in the config should be changed to \"{EXPERIMENT_NAME}/pipeline_run/{SAMPLE_SIZE}\"**"
   ]
  }
 ],
 "metadata": {
  "kernelspec": {
   "display_name": "Python 3 (ipykernel)",
   "language": "python",
   "name": "python3"
  },
  "language_info": {
   "codemirror_mode": {
    "name": "ipython",
    "version": 3
   },
   "file_extension": ".py",
   "mimetype": "text/x-python",
   "name": "python",
   "nbconvert_exporter": "python",
   "pygments_lexer": "ipython3",
   "version": "3.8.8"
  }
 },
 "nbformat": 4,
 "nbformat_minor": 5
}
