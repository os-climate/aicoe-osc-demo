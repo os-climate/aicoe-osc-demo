{
 "cells": [
  {
   "cell_type": "markdown",
   "id": "2cb20e6b",
   "metadata": {
    "papermill": {
     "duration": 0.002396,
     "end_time": "2022-07-05T19:37:35.280970",
     "exception": false,
     "start_time": "2022-07-05T19:37:35.278574",
     "status": "completed"
    },
    "tags": []
   },
   "source": [
    "# Text Curation\n",
    "As the second step of the pipeline, the notebook aims to take the extracted text from PDFs and annotated files to create the curated training set for the language model. The extracted text for this notebook is in the `ROOT/data/extraction` directory and the output csv dataset will be stored in `ROOT/data/curation` directory. The Curator class finds positive labels from annotated files and creates negative examples from the extracted text. The output dataset from this notebook will be used for the next step of the pipeline, i.e., training the model. "
   ]
  },
  {
   "cell_type": "code",
   "execution_count": 4,
   "id": "ed03f642",
   "metadata": {
    "papermill": {
     "duration": 0.535185,
     "end_time": "2022-07-05T19:37:35.818329",
     "exception": false,
     "start_time": "2022-07-05T19:37:35.283144",
     "status": "completed"
    },
    "tags": []
   },
   "outputs": [],
   "source": [
    "# Author: ALLIANZ NLP esg data pipeline\n",
    "import os\n",
    "import pathlib\n",
    "from dotenv import load_dotenv\n",
    "\n",
    "\n",
    "import config\n",
    "from src.components.preprocessing.curator import Curator\n",
    "from src.data.s3_communication import S3FileType, S3Communication"
   ]
  },
  {
   "cell_type": "markdown",
   "id": "1a63a2e8",
   "metadata": {
    "papermill": {
     "duration": 0.001907,
     "end_time": "2022-07-05T19:37:35.822599",
     "exception": false,
     "start_time": "2022-07-05T19:37:35.820692",
     "status": "completed"
    },
    "tags": []
   },
   "source": [
    "### Injecting Credentials\n",
    "\n",
    "In order to run this notebook, we need credentials to connect with S3 storage to retrieve and store data.\n",
    "\n",
    "In an automated environment, the credentials can be specified in a pipeline's environment variables or through Openshift secrets.\n",
    "\n",
    "For running the notebook in automation in an elyra pipeline, the environment variables can be updated in the notebook \"Properties\" in the pipeline UI or under `\"env_vars\"` in the `demo2.pipeline yaml` file.\n",
    "\n",
    "For the purpose of running the elyra pipeline, you can configure the `DATA_S3_PREFIX` in the `config.py` as `\"corpdata/ESG/pipeline_run/sample_1\"` which consists of the pdf for which the annotation exists.\n",
    "\n",
    "For running the notebook in a local environment, we will define them as environment variables in a `credentials.env` file at the root of the project repository, and load them using dotenv. An example of what the contents of `credentials.env` could look like is shown below\n",
    "\n",
    "```\n",
    "# s3 credentials\n",
    "S3_ENDPOINT=https://s3.us-east-1.amazonaws.com\n",
    "S3_BUCKET=ocp-odh-os-demo-s3\n",
    "AWS_ACCESS_KEY_ID=xxx\n",
    "AWS_SECRET_ACCESS_KEY=xxx\n",
    "```"
   ]
  },
  {
   "cell_type": "code",
   "execution_count": 5,
   "id": "ad72f46b",
   "metadata": {
    "papermill": {
     "duration": 0.00899,
     "end_time": "2022-07-05T19:37:35.833391",
     "exception": false,
     "start_time": "2022-07-05T19:37:35.824401",
     "status": "completed"
    },
    "tags": []
   },
   "outputs": [],
   "source": [
    "# Load credentials\n",
    "dotenv_dir = os.environ.get(\n",
    "    \"CREDENTIAL_DOTENV_DIR\", os.environ.get(\"PWD\", \"/opt/app-root/src\")\n",
    ")\n",
    "dotenv_path = pathlib.Path(dotenv_dir) / \"credentials.env\"\n",
    "if os.path.exists(dotenv_path):\n",
    "    load_dotenv(dotenv_path=dotenv_path, override=True)"
   ]
  },
  {
   "cell_type": "code",
   "execution_count": 6,
   "id": "0a82a19c",
   "metadata": {
    "papermill": {
     "duration": 0.063078,
     "end_time": "2022-07-05T19:37:35.898584",
     "exception": false,
     "start_time": "2022-07-05T19:37:35.835506",
     "status": "completed"
    },
    "tags": []
   },
   "outputs": [],
   "source": [
    "# init s3 connector\n",
    "s3c = S3Communication(\n",
    "    s3_endpoint_url=os.getenv(\"S3_ENDPOINT\"),\n",
    "    aws_access_key_id=os.getenv(\"AWS_ACCESS_KEY_ID\"),\n",
    "    aws_secret_access_key=os.getenv(\"AWS_SECRET_ACCESS_KEY\"),\n",
    "    s3_bucket=os.getenv(\"S3_BUCKET\"),\n",
    ")"
   ]
  },
  {
   "cell_type": "code",
   "execution_count": 8,
   "id": "8ec9d373-db4d-4acd-89de-4a1d238cb9d2",
   "metadata": {
    "papermill": {
     "duration": 0.297823,
     "end_time": "2022-07-05T19:37:36.208206",
     "exception": false,
     "start_time": "2022-07-05T19:37:35.910383",
     "status": "completed"
    },
    "tags": []
   },
   "outputs": [],
   "source": [
    "# When running in Automation using Elyra and Kubeflow Pipelines,\n",
    "# set AUTOMATION = 1 as an environment variable\n",
    "if os.getenv(\"AUTOMATION\"):\n",
    "    if not os.path.exists(config.BASE_EXTRACTION_FOLDER):\n",
    "        config.BASE_EXTRACTION_FOLDER.mkdir(parents=True, exist_ok=True)\n",
    "\n",
    "    if not os.path.exists(config.BASE_ANNOTATION_FOLDER):\n",
    "        config.BASE_ANNOTATION_FOLDER.mkdir(parents=True, exist_ok=True)\n",
    "\n",
    "    if not os.path.exists(config.BASE_CURATION_FOLDER):\n",
    "        config.BASE_CURATION_FOLDER.mkdir(parents=True, exist_ok=True)\n",
    "\n",
    "    # download the files created by the extraction phase\n",
    "    s3c.download_files_in_prefix_to_dir(\n",
    "        config.BASE_EXTRACTION_S3_PREFIX,\n",
    "        config.BASE_EXTRACTION_FOLDER,\n",
    "    )"
   ]
  },
  {
   "cell_type": "code",
   "execution_count": 9,
   "id": "a39bd772",
   "metadata": {
    "papermill": {
     "duration": 0.129931,
     "end_time": "2022-07-05T19:37:36.340326",
     "exception": false,
     "start_time": "2022-07-05T19:37:36.210395",
     "status": "completed"
    },
    "tags": []
   },
   "outputs": [],
   "source": [
    "# download the annoatation files\n",
    "s3c.download_files_in_prefix_to_dir(\n",
    "    config.BASE_ANNOTATION_S3_PREFIX,\n",
    "    config.BASE_ANNOTATION_FOLDER,\n",
    ")"
   ]
  },
  {
   "cell_type": "markdown",
   "id": "b7eb45d1",
   "metadata": {
    "papermill": {
     "duration": 0.001888,
     "end_time": "2022-07-05T19:37:36.344417",
     "exception": false,
     "start_time": "2022-07-05T19:37:36.342529",
     "status": "completed"
    },
    "tags": []
   },
   "source": [
    "### Call text Curator"
   ]
  },
  {
   "cell_type": "code",
   "execution_count": 7,
   "id": "a89fa229",
   "metadata": {
    "execution": {
     "iopub.execute_input": "2022-07-05T19:37:36.348899Z",
     "iopub.status.busy": "2022-07-05T19:37:36.348707Z",
     "iopub.status.idle": "2022-07-05T19:37:36.351793Z",
     "shell.execute_reply": "2022-07-05T19:37:36.351426Z"
    },
    "papermill": {
     "duration": 0.006618,
     "end_time": "2022-07-05T19:37:36.352894",
     "exception": false,
     "start_time": "2022-07-05T19:37:36.346276",
     "status": "completed"
    },
    "tags": []
   },
   "outputs": [],
   "source": [
    "SEED = 42\n",
    "TextCurator_kwargs = {\n",
    "    \"retrieve_paragraph\": False,\n",
    "    \"neg_pos_ratio\": 1,\n",
    "    \"columns_to_read\": [\n",
    "        \"company\",\n",
    "        \"source_file\",\n",
    "        \"source_page\",\n",
    "        \"kpi_id\",\n",
    "        \"year\",\n",
    "        \"answer\",\n",
    "        \"data_type\",\n",
    "        \"relevant_paragraphs\",\n",
    "    ],\n",
    "    \"company_to_exclude\": [],\n",
    "    \"create_neg_samples\": True,\n",
    "    \"seed\": SEED,\n",
    "}"
   ]
  },
  {
   "cell_type": "code",
   "execution_count": 8,
   "id": "71bdfde5",
   "metadata": {
    "execution": {
     "iopub.execute_input": "2022-07-05T19:37:36.357408Z",
     "iopub.status.busy": "2022-07-05T19:37:36.357219Z",
     "iopub.status.idle": "2022-07-05T19:37:36.422452Z",
     "shell.execute_reply": "2022-07-05T19:37:36.422067Z"
    },
    "papermill": {
     "duration": 0.068691,
     "end_time": "2022-07-05T19:37:36.423566",
     "exception": false,
     "start_time": "2022-07-05T19:37:36.354875",
     "status": "completed"
    },
    "tags": []
   },
   "outputs": [
    {
     "data": {
      "text/html": [
       "<div>\n",
       "<style scoped>\n",
       "    .dataframe tbody tr th:only-of-type {\n",
       "        vertical-align: middle;\n",
       "    }\n",
       "\n",
       "    .dataframe tbody tr th {\n",
       "        vertical-align: top;\n",
       "    }\n",
       "\n",
       "    .dataframe thead th {\n",
       "        text-align: right;\n",
       "    }\n",
       "</style>\n",
       "<table border=\"1\" class=\"dataframe\">\n",
       "  <thead>\n",
       "    <tr style=\"text-align: right;\">\n",
       "      <th></th>\n",
       "      <th>kpi_id</th>\n",
       "      <th>question</th>\n",
       "      <th>sectors</th>\n",
       "      <th>add_year</th>\n",
       "      <th>kpi_category</th>\n",
       "      <th>Unnamed: 5</th>\n",
       "      <th>Unnamed: 6</th>\n",
       "    </tr>\n",
       "  </thead>\n",
       "  <tbody>\n",
       "    <tr>\n",
       "      <th>0</th>\n",
       "      <td>0.0</td>\n",
       "      <td>What is the company name?</td>\n",
       "      <td>OG, CM, CU</td>\n",
       "      <td>False</td>\n",
       "      <td>TEXT</td>\n",
       "      <td>NaN</td>\n",
       "      <td>NaN</td>\n",
       "    </tr>\n",
       "    <tr>\n",
       "      <th>1</th>\n",
       "      <td>1.0</td>\n",
       "      <td>In which year was the annual report or the sus...</td>\n",
       "      <td>OG, CM, CU</td>\n",
       "      <td>False</td>\n",
       "      <td>TEXT</td>\n",
       "      <td>NaN</td>\n",
       "      <td>NaN</td>\n",
       "    </tr>\n",
       "    <tr>\n",
       "      <th>2</th>\n",
       "      <td>2.0</td>\n",
       "      <td>What is the total volume of proven and probabl...</td>\n",
       "      <td>OG</td>\n",
       "      <td>True</td>\n",
       "      <td>TEXT, TABLE</td>\n",
       "      <td>NaN</td>\n",
       "      <td>NaN</td>\n",
       "    </tr>\n",
       "    <tr>\n",
       "      <th>3</th>\n",
       "      <td>2.1</td>\n",
       "      <td>What is the volume of estimated proven hydroca...</td>\n",
       "      <td>OG</td>\n",
       "      <td>True</td>\n",
       "      <td>TEXT, TABLE</td>\n",
       "      <td>NaN</td>\n",
       "      <td>NaN</td>\n",
       "    </tr>\n",
       "    <tr>\n",
       "      <th>4</th>\n",
       "      <td>2.2</td>\n",
       "      <td>What is the volume of estimated probable hydro...</td>\n",
       "      <td>OG</td>\n",
       "      <td>True</td>\n",
       "      <td>TEXT, TABLE</td>\n",
       "      <td>NaN</td>\n",
       "      <td>NaN</td>\n",
       "    </tr>\n",
       "  </tbody>\n",
       "</table>\n",
       "</div>"
      ],
      "text/plain": [
       "   kpi_id                                           question     sectors  \\\n",
       "0     0.0                          What is the company name?  OG, CM, CU   \n",
       "1     1.0  In which year was the annual report or the sus...  OG, CM, CU   \n",
       "2     2.0  What is the total volume of proven and probabl...          OG   \n",
       "3     2.1  What is the volume of estimated proven hydroca...          OG   \n",
       "4     2.2  What is the volume of estimated probable hydro...          OG   \n",
       "\n",
       "   add_year kpi_category  Unnamed: 5  Unnamed: 6  \n",
       "0     False         TEXT         NaN         NaN  \n",
       "1     False         TEXT         NaN         NaN  \n",
       "2      True  TEXT, TABLE         NaN         NaN  \n",
       "3      True  TEXT, TABLE         NaN         NaN  \n",
       "4      True  TEXT, TABLE         NaN         NaN  "
      ]
     },
     "execution_count": 8,
     "metadata": {},
     "output_type": "execute_result"
    }
   ],
   "source": [
    "kpi_df = s3c.download_df_from_s3(\n",
    "    f\"{config.EXPERIMENT_NAME}/kpi_mapping\",\n",
    "    \"kpi_mapping.csv\",\n",
    "    filetype=S3FileType.CSV,\n",
    "    header=0,\n",
    ")\n",
    "kpi_df.head()"
   ]
  },
  {
   "cell_type": "code",
   "execution_count": 9,
   "id": "f067ebd4",
   "metadata": {
    "execution": {
     "iopub.execute_input": "2022-07-05T19:37:36.428470Z",
     "iopub.status.busy": "2022-07-05T19:37:36.428286Z",
     "iopub.status.idle": "2022-07-05T19:37:41.285306Z",
     "shell.execute_reply": "2022-07-05T19:37:41.284847Z"
    },
    "papermill": {
     "duration": 4.861,
     "end_time": "2022-07-05T19:37:41.286691",
     "exception": false,
     "start_time": "2022-07-05T19:37:36.425691",
     "status": "completed"
    },
    "tags": []
   },
   "outputs": [
    {
     "name": "stderr",
     "output_type": "stream",
     "text": [
      "Could not process row number 15 in 20201030 1Qbit aggregated_annotations_needs_correction (1).xlsx\n",
      "Could not process row number 16 in 20201030 1Qbit aggregated_annotations_needs_correction (1).xlsx\n",
      "Could not process row number 17 in 20201030 1Qbit aggregated_annotations_needs_correction (1).xlsx\n",
      "Could not process row number 18 in 20201030 1Qbit aggregated_annotations_needs_correction (1).xlsx\n",
      "Could not process row number 37 in 20201030 1Qbit aggregated_annotations_needs_correction (1).xlsx\n",
      "Could not process row number 165 in 20201030 1Qbit aggregated_annotations_needs_correction (1).xlsx\n",
      "Could not process row number 166 in 20201030 1Qbit aggregated_annotations_needs_correction (1).xlsx\n",
      "Could not process row number 167 in 20201030 1Qbit aggregated_annotations_needs_correction (1).xlsx\n",
      "Could not process row number 179 in 20201030 1Qbit aggregated_annotations_needs_correction (1).xlsx\n",
      "Could not process row number 180 in 20201030 1Qbit aggregated_annotations_needs_correction (1).xlsx\n",
      "Could not process row number 309 in 20201030 1Qbit aggregated_annotations_needs_correction (1).xlsx\n",
      "Could not process row number 349 in 20201030 1Qbit aggregated_annotations_needs_correction (1).xlsx\n",
      "Could not process row number 350 in 20201030 1Qbit aggregated_annotations_needs_correction (1).xlsx\n",
      "Could not process row number 351 in 20201030 1Qbit aggregated_annotations_needs_correction (1).xlsx\n",
      "Could not process row number 352 in 20201030 1Qbit aggregated_annotations_needs_correction (1).xlsx\n",
      "Could not process row number 363 in 20201030 1Qbit aggregated_annotations_needs_correction (1).xlsx\n",
      "Could not process row number 370 in 20201030 1Qbit aggregated_annotations_needs_correction (1).xlsx\n",
      "Could not process row number 371 in 20201030 1Qbit aggregated_annotations_needs_correction (1).xlsx\n",
      "Could not process row number 372 in 20201030 1Qbit aggregated_annotations_needs_correction (1).xlsx\n",
      "Could not process row number 373 in 20201030 1Qbit aggregated_annotations_needs_correction (1).xlsx\n",
      "Could not process row number 389 in 20201030 1Qbit aggregated_annotations_needs_correction (1).xlsx\n",
      "Could not process row number 399 in 20201030 1Qbit aggregated_annotations_needs_correction (1).xlsx\n",
      "Could not process row number 400 in 20201030 1Qbit aggregated_annotations_needs_correction (1).xlsx\n",
      "Could not process row number 401 in 20201030 1Qbit aggregated_annotations_needs_correction (1).xlsx\n",
      "Could not process row number 402 in 20201030 1Qbit aggregated_annotations_needs_correction (1).xlsx\n",
      "Could not process row number 416 in 20201030 1Qbit aggregated_annotations_needs_correction (1).xlsx\n",
      "Could not process row number 462 in 20201030 1Qbit aggregated_annotations_needs_correction (1).xlsx\n",
      "Could not process row number 466 in 20201030 1Qbit aggregated_annotations_needs_correction (1).xlsx\n",
      "Could not process row number 470 in 20201030 1Qbit aggregated_annotations_needs_correction (1).xlsx\n",
      "Could not process row number 532 in 20201030 1Qbit aggregated_annotations_needs_correction (1).xlsx\n",
      "Could not process row number 902 in 20201030 1Qbit aggregated_annotations_needs_correction (1).xlsx\n",
      "Could not process row number 913 in 20201030 1Qbit aggregated_annotations_needs_correction (1).xlsx\n",
      "Could not process row number 980 in 20201030 1Qbit aggregated_annotations_needs_correction (1).xlsx\n",
      "Could not process row number 1008 in 20201030 1Qbit aggregated_annotations_needs_correction (1).xlsx\n",
      "Could not process row number 1011 in 20201030 1Qbit aggregated_annotations_needs_correction (1).xlsx\n",
      "Could not process row number 1014 in 20201030 1Qbit aggregated_annotations_needs_correction (1).xlsx\n",
      "Could not process row number 1024 in 20201030 1Qbit aggregated_annotations_needs_correction (1).xlsx\n",
      "Could not process row number 1025 in 20201030 1Qbit aggregated_annotations_needs_correction (1).xlsx\n",
      "Could not process row number 1086 in 20201030 1Qbit aggregated_annotations_needs_correction (1).xlsx\n",
      "Could not process row number 1098 in 20201030 1Qbit aggregated_annotations_needs_correction (1).xlsx\n",
      "Could not process row number 1130 in 20201030 1Qbit aggregated_annotations_needs_correction (1).xlsx\n",
      "Could not process row number 1310 in 20201030 1Qbit aggregated_annotations_needs_correction (1).xlsx\n",
      "Could not process row number 1311 in 20201030 1Qbit aggregated_annotations_needs_correction (1).xlsx\n",
      "Could not process row number 1326 in 20201030 1Qbit aggregated_annotations_needs_correction (1).xlsx\n",
      "Could not process row number 1327 in 20201030 1Qbit aggregated_annotations_needs_correction (1).xlsx\n",
      "Could not process row number 1329 in 20201030 1Qbit aggregated_annotations_needs_correction (1).xlsx\n",
      "Could not process row number 1334 in 20201030 1Qbit aggregated_annotations_needs_correction (1).xlsx\n",
      "Could not process row number 1335 in 20201030 1Qbit aggregated_annotations_needs_correction (1).xlsx\n",
      "Could not process row number 1343 in 20201030 1Qbit aggregated_annotations_needs_correction (1).xlsx\n",
      "Could not process row number 1347 in 20201030 1Qbit aggregated_annotations_needs_correction (1).xlsx\n",
      "Could not process row number 1348 in 20201030 1Qbit aggregated_annotations_needs_correction (1).xlsx\n",
      "Could not process row number 1359 in 20201030 1Qbit aggregated_annotations_needs_correction (1).xlsx\n",
      "Could not process row number 1360 in 20201030 1Qbit aggregated_annotations_needs_correction (1).xlsx\n",
      "Could not process row number 1375 in 20201030 1Qbit aggregated_annotations_needs_correction (1).xlsx\n",
      "Could not process row number 1382 in 20201030 1Qbit aggregated_annotations_needs_correction (1).xlsx\n",
      "Could not process row number 1390 in 20201030 1Qbit aggregated_annotations_needs_correction (1).xlsx\n",
      "Could not process row number 1404 in 20201030 1Qbit aggregated_annotations_needs_correction (1).xlsx\n",
      "Could not process row number 1405 in 20201030 1Qbit aggregated_annotations_needs_correction (1).xlsx\n",
      "Could not process row number 1406 in 20201030 1Qbit aggregated_annotations_needs_correction (1).xlsx\n",
      "Could not process row number 1415 in 20201030 1Qbit aggregated_annotations_needs_correction (1).xlsx\n",
      "Could not process row number 1416 in 20201030 1Qbit aggregated_annotations_needs_correction (1).xlsx\n",
      "Could not process row number 1418 in 20201030 1Qbit aggregated_annotations_needs_correction (1).xlsx\n",
      "Could not process row number 1419 in 20201030 1Qbit aggregated_annotations_needs_correction (1).xlsx\n",
      "Could not process row number 1422 in 20201030 1Qbit aggregated_annotations_needs_correction (1).xlsx\n",
      "Could not process row number 1423 in 20201030 1Qbit aggregated_annotations_needs_correction (1).xlsx\n",
      "Could not process row number 1424 in 20201030 1Qbit aggregated_annotations_needs_correction (1).xlsx\n",
      "Could not process row number 1442 in 20201030 1Qbit aggregated_annotations_needs_correction (1).xlsx\n",
      "Could not process row number 1444 in 20201030 1Qbit aggregated_annotations_needs_correction (1).xlsx\n",
      "Could not process row number 1445 in 20201030 1Qbit aggregated_annotations_needs_correction (1).xlsx\n",
      "Could not process row number 1450 in 20201030 1Qbit aggregated_annotations_needs_correction (1).xlsx\n",
      "Could not process row number 1451 in 20201030 1Qbit aggregated_annotations_needs_correction (1).xlsx\n",
      "Could not process row number 1614 in 20201030 1Qbit aggregated_annotations_needs_correction (1).xlsx\n",
      "Could not process row number 1615 in 20201030 1Qbit aggregated_annotations_needs_correction (1).xlsx\n",
      "Could not process row number 1657 in 20201030 1Qbit aggregated_annotations_needs_correction (1).xlsx\n",
      "Could not process row number 1658 in 20201030 1Qbit aggregated_annotations_needs_correction (1).xlsx\n",
      "Could not process row number 1664 in 20201030 1Qbit aggregated_annotations_needs_correction (1).xlsx\n",
      "Could not process row number 1665 in 20201030 1Qbit aggregated_annotations_needs_correction (1).xlsx\n",
      "Could not process row number 1700 in 20201030 1Qbit aggregated_annotations_needs_correction (1).xlsx\n",
      "Could not process row number 1703 in 20201030 1Qbit aggregated_annotations_needs_correction (1).xlsx\n",
      "Could not process row number 1704 in 20201030 1Qbit aggregated_annotations_needs_correction (1).xlsx\n",
      "Could not process row number 1705 in 20201030 1Qbit aggregated_annotations_needs_correction (1).xlsx\n",
      "Could not process row number 1706 in 20201030 1Qbit aggregated_annotations_needs_correction (1).xlsx\n",
      "Could not process row number 1707 in 20201030 1Qbit aggregated_annotations_needs_correction (1).xlsx\n",
      "Could not process row number 1749 in 20201030 1Qbit aggregated_annotations_needs_correction (1).xlsx\n",
      "Could not process row number 1750 in 20201030 1Qbit aggregated_annotations_needs_correction (1).xlsx\n",
      "Could not process row number 1861 in 20201030 1Qbit aggregated_annotations_needs_correction (1).xlsx\n",
      "Could not process row number 1881 in 20201030 1Qbit aggregated_annotations_needs_correction (1).xlsx\n",
      "Could not process row number 1882 in 20201030 1Qbit aggregated_annotations_needs_correction (1).xlsx\n",
      "Could not process row number 1883 in 20201030 1Qbit aggregated_annotations_needs_correction (1).xlsx\n",
      "Could not process row number 1886 in 20201030 1Qbit aggregated_annotations_needs_correction (1).xlsx\n",
      "Could not process row number 1992 in 20201030 1Qbit aggregated_annotations_needs_correction (1).xlsx\n",
      "Could not process row number 1993 in 20201030 1Qbit aggregated_annotations_needs_correction (1).xlsx\n",
      "Could not process row number 2017 in 20201030 1Qbit aggregated_annotations_needs_correction (1).xlsx\n",
      "Could not process row number 2018 in 20201030 1Qbit aggregated_annotations_needs_correction (1).xlsx\n",
      "Could not process row number 2235 in 20201030 1Qbit aggregated_annotations_needs_correction (1).xlsx\n",
      "Could not process row number 2236 in 20201030 1Qbit aggregated_annotations_needs_correction (1).xlsx\n",
      "Could not process row number 2242 in 20201030 1Qbit aggregated_annotations_needs_correction (1).xlsx\n",
      "Could not process row number 2274 in 20201030 1Qbit aggregated_annotations_needs_correction (1).xlsx\n",
      "Could not process row number 2283 in 20201030 1Qbit aggregated_annotations_needs_correction (1).xlsx\n",
      "Could not process row number 2284 in 20201030 1Qbit aggregated_annotations_needs_correction (1).xlsx\n",
      "Could not process row number 2314 in 20201030 1Qbit aggregated_annotations_needs_correction (1).xlsx\n",
      "Could not process row number 2326 in 20201030 1Qbit aggregated_annotations_needs_correction (1).xlsx\n",
      "Could not process row number 2332 in 20201030 1Qbit aggregated_annotations_needs_correction (1).xlsx\n",
      "Could not process row number 2337 in 20201030 1Qbit aggregated_annotations_needs_correction (1).xlsx\n",
      "Could not process row number 2343 in 20201030 1Qbit aggregated_annotations_needs_correction (1).xlsx\n",
      "Could not process row number 2344 in 20201030 1Qbit aggregated_annotations_needs_correction (1).xlsx\n",
      "Could not process row number 2348 in 20201030 1Qbit aggregated_annotations_needs_correction (1).xlsx\n",
      "Could not process row number 2349 in 20201030 1Qbit aggregated_annotations_needs_correction (1).xlsx\n",
      "Could not process row number 2350 in 20201030 1Qbit aggregated_annotations_needs_correction (1).xlsx\n",
      "Could not process row number 2371 in 20201030 1Qbit aggregated_annotations_needs_correction (1).xlsx\n",
      "Could not process row number 2430 in 20201030 1Qbit aggregated_annotations_needs_correction (1).xlsx\n",
      "Could not process row number 2431 in 20201030 1Qbit aggregated_annotations_needs_correction (1).xlsx\n",
      "Could not process row number 2432 in 20201030 1Qbit aggregated_annotations_needs_correction (1).xlsx\n",
      "Could not process row number 2457 in 20201030 1Qbit aggregated_annotations_needs_correction (1).xlsx\n",
      "Could not process row number 2471 in 20201030 1Qbit aggregated_annotations_needs_correction (1).xlsx\n",
      "Could not process row number 2472 in 20201030 1Qbit aggregated_annotations_needs_correction (1).xlsx\n",
      "Could not process row number 2473 in 20201030 1Qbit aggregated_annotations_needs_correction (1).xlsx\n",
      "Could not process row number 2556 in 20201030 1Qbit aggregated_annotations_needs_correction (1).xlsx\n",
      "Could not process row number 2593 in 20201030 1Qbit aggregated_annotations_needs_correction (1).xlsx\n",
      "Could not process row number 2719 in 20201030 1Qbit aggregated_annotations_needs_correction (1).xlsx\n",
      "Could not process row number 2723 in 20201030 1Qbit aggregated_annotations_needs_correction (1).xlsx\n",
      "Could not process row number 2891 in 20201030 1Qbit aggregated_annotations_needs_correction (1).xlsx\n",
      "Could not process row number 2892 in 20201030 1Qbit aggregated_annotations_needs_correction (1).xlsx\n",
      "Could not process row number 2893 in 20201030 1Qbit aggregated_annotations_needs_correction (1).xlsx\n",
      "Could not process row number 2932 in 20201030 1Qbit aggregated_annotations_needs_correction (1).xlsx\n",
      "Could not process row number 2933 in 20201030 1Qbit aggregated_annotations_needs_correction (1).xlsx\n",
      "Could not process row number 2934 in 20201030 1Qbit aggregated_annotations_needs_correction (1).xlsx\n",
      "Could not process row number 3040 in 20201030 1Qbit aggregated_annotations_needs_correction (1).xlsx\n",
      "Could not process row number 3041 in 20201030 1Qbit aggregated_annotations_needs_correction (1).xlsx\n",
      "Could not process row number 3042 in 20201030 1Qbit aggregated_annotations_needs_correction (1).xlsx\n",
      "Could not process row number 3043 in 20201030 1Qbit aggregated_annotations_needs_correction (1).xlsx\n",
      "Could not process row number 3068 in 20201030 1Qbit aggregated_annotations_needs_correction (1).xlsx\n",
      "Could not process row number 3069 in 20201030 1Qbit aggregated_annotations_needs_correction (1).xlsx\n",
      "Could not process row number 3082 in 20201030 1Qbit aggregated_annotations_needs_correction (1).xlsx\n",
      "Could not process row number 3087 in 20201030 1Qbit aggregated_annotations_needs_correction (1).xlsx\n",
      "Could not process row number 3098 in 20201030 1Qbit aggregated_annotations_needs_correction (1).xlsx\n",
      "Could not process row number 3103 in 20201030 1Qbit aggregated_annotations_needs_correction (1).xlsx\n",
      "Could not process row number 3104 in 20201030 1Qbit aggregated_annotations_needs_correction (1).xlsx\n",
      "Could not process row number 3109 in 20201030 1Qbit aggregated_annotations_needs_correction (1).xlsx\n",
      "Could not process row number 3138 in 20201030 1Qbit aggregated_annotations_needs_correction (1).xlsx\n",
      "Could not process row number 3139 in 20201030 1Qbit aggregated_annotations_needs_correction (1).xlsx\n",
      "Could not process row number 3168 in 20201030 1Qbit aggregated_annotations_needs_correction (1).xlsx\n",
      "Could not process row number 3169 in 20201030 1Qbit aggregated_annotations_needs_correction (1).xlsx\n",
      "Could not process row number 3224 in 20201030 1Qbit aggregated_annotations_needs_correction (1).xlsx\n",
      "Could not process row number 3284 in 20201030 1Qbit aggregated_annotations_needs_correction (1).xlsx\n",
      "Could not process row number 3291 in 20201030 1Qbit aggregated_annotations_needs_correction (1).xlsx\n",
      "Could not process row number 3346 in 20201030 1Qbit aggregated_annotations_needs_correction (1).xlsx\n",
      "Could not process row number 3360 in 20201030 1Qbit aggregated_annotations_needs_correction (1).xlsx\n",
      "Could not process row number 3425 in 20201030 1Qbit aggregated_annotations_needs_correction (1).xlsx\n",
      "The corresponding KPIs can not be mapped             to any questions and the mapped question is empty\n",
      "[6.7]\n"
     ]
    }
   ],
   "source": [
    "cur = Curator([(\"TextCurator\", TextCurator_kwargs)])\n",
    "#pdb.set_trace()\n",
    "cur.run(config.BASE_EXTRACTION_FOLDER, config.BASE_ANNOTATION_FOLDER, config.BASE_CURATION_FOLDER, kpi_df)"
   ]
  },
  {
   "cell_type": "code",
   "execution_count": 10,
   "id": "0712e731",
   "metadata": {
    "execution": {
     "iopub.execute_input": "2022-07-05T19:37:41.301796Z",
     "iopub.status.busy": "2022-07-05T19:37:41.301595Z",
     "iopub.status.idle": "2022-07-05T19:37:41.422184Z",
     "shell.execute_reply": "2022-07-05T19:37:41.421770Z"
    },
    "papermill": {
     "duration": 0.129246,
     "end_time": "2022-07-05T19:37:41.423364",
     "exception": false,
     "start_time": "2022-07-05T19:37:41.294118",
     "status": "completed"
    },
    "tags": []
   },
   "outputs": [
    {
     "data": {
      "text/plain": [
       "200"
      ]
     },
     "execution_count": 10,
     "metadata": {},
     "output_type": "execute_result"
    }
   ],
   "source": [
    "# upload the curation file to s3\n",
    "ret = s3c.upload_file_to_s3(\n",
    "    config.BASE_CURATION_FOLDER / \"esg_TEXT_dataset.csv\",\n",
    "    config.BASE_CURATION_S3_PREFIX,\n",
    "    \"esg_TEXT_dataset.csv\",\n",
    ")\n",
    "ret['ResponseMetadata']['HTTPStatusCode']"
   ]
  },
  {
   "cell_type": "markdown",
   "id": "d61b332d",
   "metadata": {
    "papermill": {
     "duration": 0.00685,
     "end_time": "2022-07-05T19:37:41.437489",
     "exception": false,
     "start_time": "2022-07-05T19:37:41.430639",
     "status": "completed"
    },
    "tags": []
   },
   "source": [
    "### Conclusion\n",
    "We called the Curator class to combine extracted text and annotated files and store the ouput in the `ROOT/data/curation` folder."
   ]
  }
 ],
 "metadata": {
  "kernelspec": {
   "display_name": "Python 3 (ipykernel)",
   "language": "python",
   "name": "python3"
  },
  "language_info": {
   "codemirror_mode": {
    "name": "ipython",
    "version": 3
   },
   "file_extension": ".py",
   "mimetype": "text/x-python",
   "name": "python",
   "nbconvert_exporter": "python",
   "pygments_lexer": "ipython3",
   "version": "3.8.8"
  },
  "papermill": {
   "default_parameters": {},
   "duration": 7.502537,
   "end_time": "2022-07-05T19:37:41.759149",
   "environment_variables": {},
   "exception": null,
   "input_path": "/opt/app-root/src/aicoe-osc-demo/notebooks/demo2/pdf_text_curation.ipynb",
   "output_path": "/opt/app-root/src/aicoe-osc-demo/notebooks/demo2/pdf_text_curation.ipynb",
   "parameters": {},
   "start_time": "2022-07-05T19:37:34.256612",
   "version": "2.3.4"
  }
 },
 "nbformat": 4,
 "nbformat_minor": 5
}
