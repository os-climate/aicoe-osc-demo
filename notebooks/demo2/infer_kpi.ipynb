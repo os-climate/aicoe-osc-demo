{
 "cells": [
  {
   "cell_type": "markdown",
   "id": "0e85812e-ba28-45e1-9e01-cde16ef0b44b",
   "metadata": {
    "papermill": {
     "duration": 0.004919,
     "end_time": "2022-07-02T00:30:29.987143",
     "exception": false,
     "start_time": "2022-07-02T00:30:29.982224",
     "status": "completed"
    },
    "tags": []
   },
   "source": [
    "# KPI Inference\n",
    "This notebook takes in the relevant paragraphs to KPIs found in the relevance infer stage, the fine tuned KPI EXTRACTION model from the training stage, and performs inference to return specific answers to the KPIs."
   ]
  },
  {
   "cell_type": "code",
   "execution_count": 1,
   "id": "f79c4be0-b1f8-4902-8950-05841cdc41d6",
   "metadata": {
    "execution": {
     "iopub.execute_input": "2022-07-02T00:30:29.997006Z",
     "iopub.status.busy": "2022-07-02T00:30:29.996416Z",
     "iopub.status.idle": "2022-07-02T00:30:33.477927Z",
     "shell.execute_reply": "2022-07-02T00:30:33.477230Z"
    },
    "papermill": {
     "duration": 3.488551,
     "end_time": "2022-07-02T00:30:33.479940",
     "exception": false,
     "start_time": "2022-07-02T00:30:29.991389",
     "status": "completed"
    },
    "tags": []
   },
   "outputs": [
    {
     "name": "stderr",
     "output_type": "stream",
     "text": [
      "07/02/2022 00:30:33 - INFO - farm.modeling.prediction_head -   Better speed can be achieved with apex installed from https://www.github.com/nvidia/apex .\n"
     ]
    }
   ],
   "source": [
    "from config_qa_farm_train import QAFileConfig, QAInferConfig\n",
    "import pprint\n",
    "import pathlib\n",
    "import os\n",
    "from src.data.s3_communication import S3Communication, S3FileType\n",
    "from src.models.text_kpi_infer import TextKPIInfer\n",
    "from dotenv import load_dotenv\n",
    "import zipfile\n",
    "import config"
   ]
  },
  {
   "cell_type": "code",
   "execution_count": 2,
   "id": "1dfe6b89-357c-4c83-848f-d2f43faaf805",
   "metadata": {
    "execution": {
     "iopub.execute_input": "2022-07-02T00:30:33.491033Z",
     "iopub.status.busy": "2022-07-02T00:30:33.490325Z",
     "iopub.status.idle": "2022-07-02T00:30:33.501491Z",
     "shell.execute_reply": "2022-07-02T00:30:33.500816Z"
    },
    "papermill": {
     "duration": 0.0182,
     "end_time": "2022-07-02T00:30:33.503253",
     "exception": false,
     "start_time": "2022-07-02T00:30:33.485053",
     "status": "completed"
    },
    "tags": []
   },
   "outputs": [],
   "source": [
    "# Load credentials\n",
    "dotenv_dir = os.environ.get(\n",
    "    \"CREDENTIAL_DOTENV_DIR\", os.environ.get(\"PWD\", \"/opt/app-root/src\")\n",
    ")\n",
    "dotenv_path = pathlib.Path(dotenv_dir) / \"credentials.env\"\n",
    "if os.path.exists(dotenv_path):\n",
    "    load_dotenv(dotenv_path=dotenv_path, override=True)"
   ]
  },
  {
   "cell_type": "code",
   "execution_count": 3,
   "id": "f0982f03-be7f-4abc-ba30-ff1e842cf147",
   "metadata": {
    "execution": {
     "iopub.execute_input": "2022-07-02T00:30:33.512469Z",
     "iopub.status.busy": "2022-07-02T00:30:33.511997Z",
     "iopub.status.idle": "2022-07-02T00:30:33.603193Z",
     "shell.execute_reply": "2022-07-02T00:30:33.602437Z"
    },
    "papermill": {
     "duration": 0.098028,
     "end_time": "2022-07-02T00:30:33.605260",
     "exception": false,
     "start_time": "2022-07-02T00:30:33.507232",
     "status": "completed"
    },
    "tags": []
   },
   "outputs": [],
   "source": [
    "# init s3 connector\n",
    "s3c = S3Communication(\n",
    "    s3_endpoint_url=os.getenv(\"S3_ENDPOINT\"),\n",
    "    aws_access_key_id=os.getenv(\"S3_LANDING_ACCESS_KEY\"),\n",
    "    aws_secret_access_key=os.getenv(\"S3_LANDING_SECRET_KEY\"),\n",
    "    s3_bucket=os.getenv(\"S3_BUCKET\"),\n",
    ")"
   ]
  },
  {
   "cell_type": "code",
   "execution_count": 4,
   "id": "2e5136cb-7e32-4ca2-a533-db0b990f288e",
   "metadata": {
    "execution": {
     "iopub.execute_input": "2022-07-02T00:30:33.615567Z",
     "iopub.status.busy": "2022-07-02T00:30:33.615059Z",
     "iopub.status.idle": "2022-07-02T00:30:33.619075Z",
     "shell.execute_reply": "2022-07-02T00:30:33.618421Z"
    },
    "papermill": {
     "duration": 0.011196,
     "end_time": "2022-07-02T00:30:33.620983",
     "exception": false,
     "start_time": "2022-07-02T00:30:33.609787",
     "status": "completed"
    },
    "tags": []
   },
   "outputs": [],
   "source": [
    "#Settings data files and checkpoints parameters\n",
    "file_config = QAFileConfig(\"infer_demo\")\n",
    "infer_config = QAInferConfig(\"infer_demo\")"
   ]
  },
  {
   "cell_type": "code",
   "execution_count": 5,
   "id": "e5607a79-d139-40e4-ae56-646cd54a1838",
   "metadata": {
    "execution": {
     "iopub.execute_input": "2022-07-02T00:30:33.630728Z",
     "iopub.status.busy": "2022-07-02T00:30:33.630228Z",
     "iopub.status.idle": "2022-07-02T00:30:33.775792Z",
     "shell.execute_reply": "2022-07-02T00:30:33.775113Z"
    },
    "papermill": {
     "duration": 0.152377,
     "end_time": "2022-07-02T00:30:33.777607",
     "exception": false,
     "start_time": "2022-07-02T00:30:33.625230",
     "status": "completed"
    },
    "tags": []
   },
   "outputs": [],
   "source": [
    "# When running in Automation using Elyra and Kubeflow Pipelines,\n",
    "# set AUTOMATION = 1 as an environment variable\n",
    "if os.getenv(\"AUTOMATION\"):\n",
    "\n",
    "    # inference results dir\n",
    "    if not os.path.exists(infer_config.relevance_dir['Text']):\n",
    "        pathlib.Path(infer_config.relevance_dir['Text']).mkdir(parents=True, exist_ok=True)\n",
    "\n",
    "    # kpi inference results dir\n",
    "    if not os.path.exists(infer_config.result_dir['Text']):\n",
    "        pathlib.Path(infer_config.result_dir['Text']).mkdir(parents=True, exist_ok=True)\n",
    "\n",
    "    # load dir\n",
    "    if not os.path.exists(infer_config.load_dir['Text']):\n",
    "        pathlib.Path(infer_config.load_dir['Text']).mkdir(parents=True, exist_ok=True)\n",
    "\n",
    "    # download relevance predictions from s3\n",
    "    s3c.download_files_in_prefix_to_dir(\n",
    "        config.BASE_INFER_RELEVANCE_S3_PREFIX,\n",
    "        infer_config.relevance_dir['Text'],\n",
    "    )"
   ]
  },
  {
   "cell_type": "code",
   "execution_count": 6,
   "id": "7c24a0d7-40c2-4da8-9e7f-66ce78386ec3",
   "metadata": {
    "execution": {
     "iopub.execute_input": "2022-07-02T00:30:33.787253Z",
     "iopub.status.busy": "2022-07-02T00:30:33.786729Z",
     "iopub.status.idle": "2022-07-02T00:31:18.002091Z",
     "shell.execute_reply": "2022-07-02T00:31:18.001179Z"
    },
    "papermill": {
     "duration": 44.222679,
     "end_time": "2022-07-02T00:31:18.004580",
     "exception": false,
     "start_time": "2022-07-02T00:30:33.781901",
     "status": "completed"
    },
    "tags": []
   },
   "outputs": [],
   "source": [
    "model_root = pathlib.Path(file_config.saved_models_dir).parent\n",
    "model_rel_zip = pathlib.Path(model_root, 'KPI_EXTRACTION.zip')\n",
    "\n",
    "# This file must be download because model training doesn't save a local copy\n",
    "s3c.download_file_from_s3(model_rel_zip, config.CHECKPOINT_S3_PREFIX, \"KPI_EXTRACTION.zip\")\n",
    "with zipfile.ZipFile(pathlib.Path(model_root, 'KPI_EXTRACTION.zip'), 'r') as z:\n",
    "    z.extractall(model_root)"
   ]
  },
  {
   "cell_type": "markdown",
   "id": "bda4681d-2d84-414b-a701-b507acc99552",
   "metadata": {
    "papermill": {
     "duration": 0.004738,
     "end_time": "2022-07-02T00:31:18.014443",
     "exception": false,
     "start_time": "2022-07-02T00:31:18.009705",
     "status": "completed"
    },
    "tags": []
   },
   "source": [
    "## Inference"
   ]
  },
  {
   "cell_type": "markdown",
   "id": "2af4fd06-c86d-42aa-b4f6-6992b60cf512",
   "metadata": {
    "papermill": {
     "duration": 0.003976,
     "end_time": "2022-07-02T00:31:18.023076",
     "exception": false,
     "start_time": "2022-07-02T00:31:18.019100",
     "status": "completed"
    },
    "tags": []
   },
   "source": [
    "We can use the saved model and test it on some real examples.<br><br>\n",
    "First let's load the model:"
   ]
  },
  {
   "cell_type": "code",
   "execution_count": 7,
   "id": "38a70174-65b3-4365-ba6f-d020457de4b7",
   "metadata": {
    "execution": {
     "iopub.execute_input": "2022-07-02T00:31:18.032756Z",
     "iopub.status.busy": "2022-07-02T00:31:18.032315Z",
     "iopub.status.idle": "2022-07-02T00:31:18.039824Z",
     "shell.execute_reply": "2022-07-02T00:31:18.039108Z"
    },
    "papermill": {
     "duration": 0.014463,
     "end_time": "2022-07-02T00:31:18.041568",
     "exception": false,
     "start_time": "2022-07-02T00:31:18.027105",
     "status": "completed"
    },
    "tags": []
   },
   "outputs": [
    {
     "data": {
      "text/plain": [
       "'/opt/app-root/src/aicoe-osc-demo/models/KPI_EXTRACTION'"
      ]
     },
     "execution_count": 7,
     "metadata": {},
     "output_type": "execute_result"
    }
   ],
   "source": [
    "file_config.saved_models_dir"
   ]
  },
  {
   "cell_type": "code",
   "execution_count": 8,
   "id": "b840d5cf-3d42-4e9e-be2d-d95634c4ac96",
   "metadata": {
    "execution": {
     "iopub.execute_input": "2022-07-02T00:31:18.051110Z",
     "iopub.status.busy": "2022-07-02T00:31:18.050661Z",
     "iopub.status.idle": "2022-07-02T00:31:31.483495Z",
     "shell.execute_reply": "2022-07-02T00:31:31.482128Z"
    },
    "papermill": {
     "duration": 13.440374,
     "end_time": "2022-07-02T00:31:31.486055",
     "exception": false,
     "start_time": "2022-07-02T00:31:18.045681",
     "status": "completed"
    },
    "tags": []
   },
   "outputs": [
    {
     "name": "stderr",
     "output_type": "stream",
     "text": [
      "07/02/2022 00:31:27 - WARNING - farm.modeling.prediction_head -   Some unused parameters are passed to the QuestionAnsweringHead. Might not be a problem. Params: {\"training\": false, \"num_labels\": 2, \"ph_output_type\": \"per_token_squad\", \"model_type\": \"span_classification\", \"label_tensor_name\": \"question_answering_label_ids\", \"label_list\": [\"start_token\", \"end_token\"], \"metric\": \"squad\", \"name\": \"QuestionAnsweringHead\"}\n",
      "07/02/2022 00:31:31 - WARNING - farm.infer -   QAInferencer always has task_type='question_answering' even if another value is provided to Inferencer.load() or QAInferencer()\n"
     ]
    }
   ],
   "source": [
    "tki = TextKPIInfer(infer_config)"
   ]
  },
  {
   "cell_type": "markdown",
   "id": "c534da63-f0b2-4e5b-bef1-d4d0a217e433",
   "metadata": {
    "papermill": {
     "duration": 0.004276,
     "end_time": "2022-07-02T00:31:31.495925",
     "exception": false,
     "start_time": "2022-07-02T00:31:31.491649",
     "status": "completed"
    },
    "tags": []
   },
   "source": [
    "Now, let's make prediction on a pair of paragraph and question."
   ]
  },
  {
   "cell_type": "code",
   "execution_count": 9,
   "id": "d506a8b3-f013-4eef-98fc-d1cdd1525a14",
   "metadata": {
    "execution": {
     "iopub.execute_input": "2022-07-02T00:31:31.508001Z",
     "iopub.status.busy": "2022-07-02T00:31:31.507345Z",
     "iopub.status.idle": "2022-07-02T00:31:31.513823Z",
     "shell.execute_reply": "2022-07-02T00:31:31.512912Z"
    },
    "papermill": {
     "duration": 0.014743,
     "end_time": "2022-07-02T00:31:31.515812",
     "exception": false,
     "start_time": "2022-07-02T00:31:31.501069",
     "status": "completed"
    },
    "tags": []
   },
   "outputs": [],
   "source": [
    "context = \"\"\"the paris agreement on climate change drafted in 2015 aims to reduce worldwide emissions of greenhouse\n",
    "gases to a level intended to limit a rise in global temperatures to below 2 degrees or, better still,\n",
    "to below 1.5 degrees. verbund’s target of reducing greenhouse gas emissions by 90% measured beginning from\n",
    "the basis year 2011 5 million tonnes co2e until 2021 includes scope 1, scope 2 market- based and parts of scope 3 emissions\n",
    "for energy and air travel. the science based targets initiative validated this goal as science-based in october 2016,\n",
    "i.e. it meets global standards. according to current planning, the target can be achieved.\n",
    "however, if the grid operator requires higher generation volumes\n",
    "\"\"\"\n",
    "question = \"What is the target year for climate commitment?\"\n"
   ]
  },
  {
   "cell_type": "code",
   "execution_count": 10,
   "id": "e92e6380-5440-499b-b4e8-6871dfc0ec13",
   "metadata": {
    "execution": {
     "iopub.execute_input": "2022-07-02T00:31:31.525722Z",
     "iopub.status.busy": "2022-07-02T00:31:31.525260Z",
     "iopub.status.idle": "2022-07-02T00:31:32.053399Z",
     "shell.execute_reply": "2022-07-02T00:31:32.052411Z"
    },
    "papermill": {
     "duration": 0.535398,
     "end_time": "2022-07-02T00:31:32.055442",
     "exception": false,
     "start_time": "2022-07-02T00:31:31.520044",
     "status": "completed"
    },
    "tags": []
   },
   "outputs": [
    {
     "name": "stderr",
     "output_type": "stream",
     "text": [
      "Inferencing Samples: 100%|██████████| 1/1 [00:00<00:00, 17.59 Batches/s]\n"
     ]
    },
    {
     "name": "stdout",
     "output_type": "stream",
     "text": [
      "{'predictions': [{'answers': [{'answer': '2021',\n",
      "                               'context': 'the basis year 2011 5 million '\n",
      "                                          'tonnes co2e until 2021 includes '\n",
      "                                          'scope 1, scope 2 market- based and '\n",
      "                                          'par',\n",
      "                               'document_id': '0-0',\n",
      "                               'offset_answer_end': 364,\n",
      "                               'offset_answer_start': 360,\n",
      "                               'offset_context_end': 412,\n",
      "                               'offset_context_start': 312,\n",
      "                               'probability': None,\n",
      "                               'score': 7.129114151000977},\n",
      "                              {'answer': 'no_answer',\n",
      "                               'context': '',\n",
      "                               'document_id': '0-0',\n",
      "                               'offset_answer_end': 0,\n",
      "                               'offset_answer_start': 0,\n",
      "                               'offset_context_end': 0,\n",
      "                               'offset_context_start': 0,\n",
      "                               'probability': None,\n",
      "                               'score': -20.135552406311035}],\n",
      "                  'ground_truth': [],\n",
      "                  'id': '0-0',\n",
      "                  'no_ans_gap': 27.26466655731201,\n",
      "                  'question': 'What is the target year for climate '\n",
      "                              'commitment?'}],\n",
      " 'task': 'qa'}\n"
     ]
    }
   ],
   "source": [
    "QA_input = [\n",
    "    {\n",
    "        \"qas\": [question],\n",
    "        \"context\":  context\n",
    "    }\n",
    "]\n",
    "\n",
    "result = tki.infer_on_dict(QA_input)[0]\n",
    "pprint.pprint(result)"
   ]
  },
  {
   "cell_type": "markdown",
   "id": "25bdf450-5ffb-46b4-bf05-63febe597593",
   "metadata": {
    "papermill": {
     "duration": 0.004521,
     "end_time": "2022-07-02T00:31:32.065752",
     "exception": false,
     "start_time": "2022-07-02T00:31:32.061231",
     "status": "completed"
    },
    "tags": []
   },
   "source": [
    "What does the prediction result show? "
   ]
  },
  {
   "cell_type": "code",
   "execution_count": 11,
   "id": "274ed119-f30a-43c6-9fae-a49a59167648",
   "metadata": {
    "execution": {
     "iopub.execute_input": "2022-07-02T00:31:32.076325Z",
     "iopub.status.busy": "2022-07-02T00:31:32.075771Z",
     "iopub.status.idle": "2022-07-02T00:31:32.082246Z",
     "shell.execute_reply": "2022-07-02T00:31:32.081338Z"
    },
    "papermill": {
     "duration": 0.014124,
     "end_time": "2022-07-02T00:31:32.084294",
     "exception": false,
     "start_time": "2022-07-02T00:31:32.070170",
     "status": "completed"
    },
    "tags": []
   },
   "outputs": [
    {
     "data": {
      "text/plain": [
       "{'score': 7.129114151000977,\n",
       " 'probability': None,\n",
       " 'answer': '2021',\n",
       " 'offset_answer_start': 360,\n",
       " 'offset_answer_end': 364,\n",
       " 'context': 'the basis year 2011 5 million tonnes co2e until 2021 includes scope 1, scope 2 market- based and par',\n",
       " 'offset_context_start': 312,\n",
       " 'offset_context_end': 412,\n",
       " 'document_id': '0-0'}"
      ]
     },
     "execution_count": 11,
     "metadata": {},
     "output_type": "execute_result"
    }
   ],
   "source": [
    "# This is the best answer. Generally it can be span-based or it can be no-answer, which ever is higher\n",
    "# Here the top answer is the span '2021'\n",
    "result['predictions'][0]['answers'][0]"
   ]
  },
  {
   "cell_type": "code",
   "execution_count": 12,
   "id": "06544a27-29a1-43bc-a9b4-3983f9f8478c",
   "metadata": {
    "execution": {
     "iopub.execute_input": "2022-07-02T00:31:32.095081Z",
     "iopub.status.busy": "2022-07-02T00:31:32.094463Z",
     "iopub.status.idle": "2022-07-02T00:31:32.100617Z",
     "shell.execute_reply": "2022-07-02T00:31:32.099718Z"
    },
    "papermill": {
     "duration": 0.013691,
     "end_time": "2022-07-02T00:31:32.102514",
     "exception": false,
     "start_time": "2022-07-02T00:31:32.088823",
     "status": "completed"
    },
    "tags": []
   },
   "outputs": [
    {
     "data": {
      "text/plain": [
       "{'score': -20.135552406311035,\n",
       " 'probability': None,\n",
       " 'answer': 'no_answer',\n",
       " 'offset_answer_start': 0,\n",
       " 'offset_answer_end': 0,\n",
       " 'context': '',\n",
       " 'offset_context_start': 0,\n",
       " 'offset_context_end': 0,\n",
       " 'document_id': '0-0'}"
      ]
     },
     "execution_count": 12,
     "metadata": {},
     "output_type": "execute_result"
    }
   ],
   "source": [
    "# Non-answerable score: The model is pretty confident that the answer to the question can be in the context.\n",
    "result['predictions'][0]['answers'][1]"
   ]
  },
  {
   "cell_type": "markdown",
   "id": "8d67eca9-c232-4531-aa10-f7171f28da9a",
   "metadata": {
    "papermill": {
     "duration": 0.004551,
     "end_time": "2022-07-02T00:31:32.111695",
     "exception": false,
     "start_time": "2022-07-02T00:31:32.107144",
     "status": "completed"
    },
    "tags": []
   },
   "source": [
    "Now, let's use the model to infer kpi answers from the relevance results "
   ]
  },
  {
   "cell_type": "code",
   "execution_count": 13,
   "id": "9ddef850-c2bc-412a-ba61-7c473cded67c",
   "metadata": {
    "execution": {
     "iopub.execute_input": "2022-07-02T00:31:32.148922Z",
     "iopub.status.busy": "2022-07-02T00:31:32.148447Z",
     "iopub.status.idle": "2022-07-02T00:31:32.154099Z",
     "shell.execute_reply": "2022-07-02T00:31:32.153142Z"
    },
    "papermill": {
     "duration": 0.039486,
     "end_time": "2022-07-02T00:31:32.156057",
     "exception": false,
     "start_time": "2022-07-02T00:31:32.116571",
     "status": "completed"
    },
    "tags": []
   },
   "outputs": [
    {
     "data": {
      "text/plain": [
       "{'Text': '/opt/app-root/src/aicoe-osc-demo/data/infer_relevance'}"
      ]
     },
     "execution_count": 13,
     "metadata": {},
     "output_type": "execute_result"
    }
   ],
   "source": [
    "infer_config.relevance_dir"
   ]
  },
  {
   "cell_type": "code",
   "execution_count": 14,
   "id": "6eccfd28-a107-4e41-9293-8348b9d59f80",
   "metadata": {
    "execution": {
     "iopub.execute_input": "2022-07-02T00:31:32.167583Z",
     "iopub.status.busy": "2022-07-02T00:31:32.166920Z",
     "iopub.status.idle": "2022-07-02T00:31:32.296256Z",
     "shell.execute_reply": "2022-07-02T00:31:32.295595Z"
    },
    "papermill": {
     "duration": 0.136891,
     "end_time": "2022-07-02T00:31:32.298121",
     "exception": false,
     "start_time": "2022-07-02T00:31:32.161230",
     "status": "completed"
    },
    "tags": []
   },
   "outputs": [
    {
     "data": {
      "text/html": [
       "<div>\n",
       "<style scoped>\n",
       "    .dataframe tbody tr th:only-of-type {\n",
       "        vertical-align: middle;\n",
       "    }\n",
       "\n",
       "    .dataframe tbody tr th {\n",
       "        vertical-align: top;\n",
       "    }\n",
       "\n",
       "    .dataframe thead th {\n",
       "        text-align: right;\n",
       "    }\n",
       "</style>\n",
       "<table border=\"1\" class=\"dataframe\">\n",
       "  <thead>\n",
       "    <tr style=\"text-align: right;\">\n",
       "      <th></th>\n",
       "      <th>kpi_id</th>\n",
       "      <th>question</th>\n",
       "      <th>sectors</th>\n",
       "      <th>add_year</th>\n",
       "      <th>kpi_category</th>\n",
       "      <th>Unnamed: 5</th>\n",
       "      <th>Unnamed: 6</th>\n",
       "    </tr>\n",
       "  </thead>\n",
       "  <tbody>\n",
       "    <tr>\n",
       "      <th>0</th>\n",
       "      <td>0.0</td>\n",
       "      <td>What is the company name?</td>\n",
       "      <td>OG, CM, CU</td>\n",
       "      <td>False</td>\n",
       "      <td>TEXT</td>\n",
       "      <td>NaN</td>\n",
       "      <td>NaN</td>\n",
       "    </tr>\n",
       "    <tr>\n",
       "      <th>1</th>\n",
       "      <td>1.0</td>\n",
       "      <td>In which year was the annual report or the sus...</td>\n",
       "      <td>OG, CM, CU</td>\n",
       "      <td>False</td>\n",
       "      <td>TEXT</td>\n",
       "      <td>NaN</td>\n",
       "      <td>NaN</td>\n",
       "    </tr>\n",
       "    <tr>\n",
       "      <th>2</th>\n",
       "      <td>2.0</td>\n",
       "      <td>What is the total volume of proven and probabl...</td>\n",
       "      <td>OG</td>\n",
       "      <td>True</td>\n",
       "      <td>TEXT, TABLE</td>\n",
       "      <td>NaN</td>\n",
       "      <td>NaN</td>\n",
       "    </tr>\n",
       "    <tr>\n",
       "      <th>3</th>\n",
       "      <td>2.1</td>\n",
       "      <td>What is the volume of estimated proven hydroca...</td>\n",
       "      <td>OG</td>\n",
       "      <td>True</td>\n",
       "      <td>TEXT, TABLE</td>\n",
       "      <td>NaN</td>\n",
       "      <td>NaN</td>\n",
       "    </tr>\n",
       "    <tr>\n",
       "      <th>4</th>\n",
       "      <td>2.2</td>\n",
       "      <td>What is the volume of estimated probable hydro...</td>\n",
       "      <td>OG</td>\n",
       "      <td>True</td>\n",
       "      <td>TEXT, TABLE</td>\n",
       "      <td>NaN</td>\n",
       "      <td>NaN</td>\n",
       "    </tr>\n",
       "  </tbody>\n",
       "</table>\n",
       "</div>"
      ],
      "text/plain": [
       "   kpi_id                                           question     sectors  \\\n",
       "0     0.0                          What is the company name?  OG, CM, CU   \n",
       "1     1.0  In which year was the annual report or the sus...  OG, CM, CU   \n",
       "2     2.0  What is the total volume of proven and probabl...          OG   \n",
       "3     2.1  What is the volume of estimated proven hydroca...          OG   \n",
       "4     2.2  What is the volume of estimated probable hydro...          OG   \n",
       "\n",
       "   add_year kpi_category  Unnamed: 5  Unnamed: 6  \n",
       "0     False         TEXT         NaN         NaN  \n",
       "1     False         TEXT         NaN         NaN  \n",
       "2      True  TEXT, TABLE         NaN         NaN  \n",
       "3      True  TEXT, TABLE         NaN         NaN  \n",
       "4      True  TEXT, TABLE         NaN         NaN  "
      ]
     },
     "execution_count": 14,
     "metadata": {},
     "output_type": "execute_result"
    }
   ],
   "source": [
    "kpi_df = s3c.download_df_from_s3(\n",
    "    f\"{config.EXPERIMENT_NAME}/kpi_mapping\",\n",
    "    \"kpi_mapping.csv\",\n",
    "    filetype=S3FileType.CSV,\n",
    "    header=0,\n",
    ")\n",
    "kpi_df.head()"
   ]
  },
  {
   "cell_type": "code",
   "execution_count": 15,
   "id": "715e0399-beee-43ac-8ef3-50e97be6cbf6",
   "metadata": {
    "execution": {
     "iopub.execute_input": "2022-07-02T00:31:32.309312Z",
     "iopub.status.busy": "2022-07-02T00:31:32.308901Z",
     "iopub.status.idle": "2022-07-02T00:31:43.105074Z",
     "shell.execute_reply": "2022-07-02T00:31:43.104166Z"
    },
    "papermill": {
     "duration": 10.803834,
     "end_time": "2022-07-02T00:31:43.107061",
     "exception": false,
     "start_time": "2022-07-02T00:31:32.303227",
     "status": "completed"
    },
    "tags": []
   },
   "outputs": [
    {
     "name": "stderr",
     "output_type": "stream",
     "text": [
      "07/02/2022 00:31:32 - INFO - src.models.text_kpi_infer -   #################### Starting KPI Inference for the following relevance CSV files found in /opt/app-root/src/aicoe-osc-demo/data/infer_kpi:\n",
      "['sustainability-report-2019_predictions_relevant.csv'] \n",
      "07/02/2022 00:31:32 - INFO - src.models.text_kpi_infer -   #################### 1/1\n",
      "07/02/2022 00:31:32 - INFO - src.models.text_kpi_infer -   Starting KPI Extraction for sustainability-report-2019\n",
      "Inferencing Samples: 100%|██████████| 35/35 [00:08<00:00,  4.12 Batches/s]\n",
      "07/02/2022 00:31:42 - ERROR - farm.modeling.predictions -   Both start and end offsets should be 0: \n",
      "86, 86 with a no_answer. \n",
      "07/02/2022 00:31:43 - INFO - src.models.text_kpi_infer -   Save the result of KPI extraction to /opt/app-root/src/aicoe-osc-demo/data/infer_kpi/sustainability-report-2019_predictions_kpi.csv\n"
     ]
    },
    {
     "data": {
      "text/html": [
       "<div>\n",
       "<style scoped>\n",
       "    .dataframe tbody tr th:only-of-type {\n",
       "        vertical-align: middle;\n",
       "    }\n",
       "\n",
       "    .dataframe tbody tr th {\n",
       "        vertical-align: top;\n",
       "    }\n",
       "\n",
       "    .dataframe thead th {\n",
       "        text-align: right;\n",
       "    }\n",
       "</style>\n",
       "<table border=\"1\" class=\"dataframe\">\n",
       "  <thead>\n",
       "    <tr style=\"text-align: right;\">\n",
       "      <th></th>\n",
       "      <th>pdf_name</th>\n",
       "      <th>kpi</th>\n",
       "      <th>kpi_id</th>\n",
       "      <th>answer</th>\n",
       "      <th>page</th>\n",
       "      <th>paragraph</th>\n",
       "      <th>source</th>\n",
       "      <th>score</th>\n",
       "      <th>no_ans_score</th>\n",
       "      <th>no_answer_score_plus_boost</th>\n",
       "    </tr>\n",
       "  </thead>\n",
       "  <tbody>\n",
       "    <tr>\n",
       "      <th>0</th>\n",
       "      <td>sustainability-report-2019</td>\n",
       "      <td>In which year was the annual report or the sus...</td>\n",
       "      <td>NaN</td>\n",
       "      <td>2019</td>\n",
       "      <td>3.0</td>\n",
       "      <td>This report focuses on the sustainability topi...</td>\n",
       "      <td>Text</td>\n",
       "      <td>12.819071</td>\n",
       "      <td>-11.384018</td>\n",
       "      <td>-26.384018</td>\n",
       "    </tr>\n",
       "    <tr>\n",
       "      <th>1</th>\n",
       "      <td>sustainability-report-2019</td>\n",
       "      <td>In which year was the annual report or the sus...</td>\n",
       "      <td>NaN</td>\n",
       "      <td>2018</td>\n",
       "      <td>7.0</td>\n",
       "      <td>According to IPCC’s 1.5 C report from 2018 and...</td>\n",
       "      <td>Text</td>\n",
       "      <td>12.508750</td>\n",
       "      <td>-6.967497</td>\n",
       "      <td>-21.967497</td>\n",
       "    </tr>\n",
       "    <tr>\n",
       "      <th>2</th>\n",
       "      <td>sustainability-report-2019</td>\n",
       "      <td>In which year was the annual report or the sus...</td>\n",
       "      <td>NaN</td>\n",
       "      <td>2019</td>\n",
       "      <td>26.0</td>\n",
       "      <td>Equinor Sustainability report 2019 High value ...</td>\n",
       "      <td>Text</td>\n",
       "      <td>12.427496</td>\n",
       "      <td>-9.680325</td>\n",
       "      <td>-24.680325</td>\n",
       "    </tr>\n",
       "    <tr>\n",
       "      <th>3</th>\n",
       "      <td>sustainability-report-2019</td>\n",
       "      <td>In which year was the annual report or the sus...</td>\n",
       "      <td>NaN</td>\n",
       "      <td>2019</td>\n",
       "      <td>8.0</td>\n",
       "      <td>Equinor Sustainability report 2019Low carbon —...</td>\n",
       "      <td>Text</td>\n",
       "      <td>12.356202</td>\n",
       "      <td>-8.748007</td>\n",
       "      <td>-23.748007</td>\n",
       "    </tr>\n",
       "    <tr>\n",
       "      <th>4</th>\n",
       "      <td>sustainability-report-2019</td>\n",
       "      <td>What is the annual total production from coal?</td>\n",
       "      <td>NaN</td>\n",
       "      <td>no_answer</td>\n",
       "      <td>NaN</td>\n",
       "      <td>NaN</td>\n",
       "      <td>Text</td>\n",
       "      <td>2.840454</td>\n",
       "      <td>NaN</td>\n",
       "      <td>NaN</td>\n",
       "    </tr>\n",
       "    <tr>\n",
       "      <th>...</th>\n",
       "      <td>...</td>\n",
       "      <td>...</td>\n",
       "      <td>...</td>\n",
       "      <td>...</td>\n",
       "      <td>...</td>\n",
       "      <td>...</td>\n",
       "      <td>...</td>\n",
       "      <td>...</td>\n",
       "      <td>...</td>\n",
       "      <td>...</td>\n",
       "    </tr>\n",
       "    <tr>\n",
       "      <th>91</th>\n",
       "      <td>sustainability-report-2019</td>\n",
       "      <td>What is the volume of estimated probable hydro...</td>\n",
       "      <td>NaN</td>\n",
       "      <td>18kg CO₂/boe.</td>\n",
       "      <td>10.0</td>\n",
       "      <td>Equinor aims to reduce the CO₂ intensity of it...</td>\n",
       "      <td>Text</td>\n",
       "      <td>-6.069309</td>\n",
       "      <td>17.698502</td>\n",
       "      <td>2.698502</td>\n",
       "    </tr>\n",
       "    <tr>\n",
       "      <th>92</th>\n",
       "      <td>sustainability-report-2019</td>\n",
       "      <td>What is the volume of estimated proven hydroca...</td>\n",
       "      <td>NaN</td>\n",
       "      <td>2.7 billion barrels of oil equivalents</td>\n",
       "      <td>25.0</td>\n",
       "      <td>Norway This year Equinor and the Johan Sverdru...</td>\n",
       "      <td>Text</td>\n",
       "      <td>5.207407</td>\n",
       "      <td>17.570000</td>\n",
       "      <td>2.570000</td>\n",
       "    </tr>\n",
       "    <tr>\n",
       "      <th>93</th>\n",
       "      <td>sustainability-report-2019</td>\n",
       "      <td>What is the volume of estimated proven hydroca...</td>\n",
       "      <td>NaN</td>\n",
       "      <td>18kg CO₂/boe.</td>\n",
       "      <td>10.0</td>\n",
       "      <td>Equinor aims to reduce the CO₂ intensity of it...</td>\n",
       "      <td>Text</td>\n",
       "      <td>-6.862871</td>\n",
       "      <td>17.566399</td>\n",
       "      <td>2.566399</td>\n",
       "    </tr>\n",
       "    <tr>\n",
       "      <th>94</th>\n",
       "      <td>sustainability-report-2019</td>\n",
       "      <td>What is the volume of estimated proven hydroca...</td>\n",
       "      <td>NaN</td>\n",
       "      <td>8 744 m3</td>\n",
       "      <td>18.0</td>\n",
       "      <td>The number of oil spills per year decreased co...</td>\n",
       "      <td>Text</td>\n",
       "      <td>-7.836313</td>\n",
       "      <td>17.525288</td>\n",
       "      <td>2.525288</td>\n",
       "    </tr>\n",
       "    <tr>\n",
       "      <th>95</th>\n",
       "      <td>sustainability-report-2019</td>\n",
       "      <td>What is the volume of estimated proven hydroca...</td>\n",
       "      <td>NaN</td>\n",
       "      <td>460</td>\n",
       "      <td>10.0</td>\n",
       "      <td>Electrification of offshore assets We are expl...</td>\n",
       "      <td>Text</td>\n",
       "      <td>-8.112280</td>\n",
       "      <td>17.481514</td>\n",
       "      <td>2.481514</td>\n",
       "    </tr>\n",
       "  </tbody>\n",
       "</table>\n",
       "<p>96 rows × 10 columns</p>\n",
       "</div>"
      ],
      "text/plain": [
       "                      pdf_name  \\\n",
       "0   sustainability-report-2019   \n",
       "1   sustainability-report-2019   \n",
       "2   sustainability-report-2019   \n",
       "3   sustainability-report-2019   \n",
       "4   sustainability-report-2019   \n",
       "..                         ...   \n",
       "91  sustainability-report-2019   \n",
       "92  sustainability-report-2019   \n",
       "93  sustainability-report-2019   \n",
       "94  sustainability-report-2019   \n",
       "95  sustainability-report-2019   \n",
       "\n",
       "                                                  kpi  kpi_id  \\\n",
       "0   In which year was the annual report or the sus...     NaN   \n",
       "1   In which year was the annual report or the sus...     NaN   \n",
       "2   In which year was the annual report or the sus...     NaN   \n",
       "3   In which year was the annual report or the sus...     NaN   \n",
       "4      What is the annual total production from coal?     NaN   \n",
       "..                                                ...     ...   \n",
       "91  What is the volume of estimated probable hydro...     NaN   \n",
       "92  What is the volume of estimated proven hydroca...     NaN   \n",
       "93  What is the volume of estimated proven hydroca...     NaN   \n",
       "94  What is the volume of estimated proven hydroca...     NaN   \n",
       "95  What is the volume of estimated proven hydroca...     NaN   \n",
       "\n",
       "                                    answer  page  \\\n",
       "0                                     2019   3.0   \n",
       "1                                     2018   7.0   \n",
       "2                                     2019  26.0   \n",
       "3                                     2019   8.0   \n",
       "4                                no_answer   NaN   \n",
       "..                                     ...   ...   \n",
       "91                           18kg CO₂/boe.  10.0   \n",
       "92  2.7 billion barrels of oil equivalents  25.0   \n",
       "93                           18kg CO₂/boe.  10.0   \n",
       "94                                8 744 m3  18.0   \n",
       "95                                     460  10.0   \n",
       "\n",
       "                                            paragraph source      score  \\\n",
       "0   This report focuses on the sustainability topi...   Text  12.819071   \n",
       "1   According to IPCC’s 1.5 C report from 2018 and...   Text  12.508750   \n",
       "2   Equinor Sustainability report 2019 High value ...   Text  12.427496   \n",
       "3   Equinor Sustainability report 2019Low carbon —...   Text  12.356202   \n",
       "4                                                 NaN   Text   2.840454   \n",
       "..                                                ...    ...        ...   \n",
       "91  Equinor aims to reduce the CO₂ intensity of it...   Text  -6.069309   \n",
       "92  Norway This year Equinor and the Johan Sverdru...   Text   5.207407   \n",
       "93  Equinor aims to reduce the CO₂ intensity of it...   Text  -6.862871   \n",
       "94  The number of oil spills per year decreased co...   Text  -7.836313   \n",
       "95  Electrification of offshore assets We are expl...   Text  -8.112280   \n",
       "\n",
       "    no_ans_score  no_answer_score_plus_boost  \n",
       "0     -11.384018                  -26.384018  \n",
       "1      -6.967497                  -21.967497  \n",
       "2      -9.680325                  -24.680325  \n",
       "3      -8.748007                  -23.748007  \n",
       "4            NaN                         NaN  \n",
       "..           ...                         ...  \n",
       "91     17.698502                    2.698502  \n",
       "92     17.570000                    2.570000  \n",
       "93     17.566399                    2.566399  \n",
       "94     17.525288                    2.525288  \n",
       "95     17.481514                    2.481514  \n",
       "\n",
       "[96 rows x 10 columns]"
      ]
     },
     "execution_count": 15,
     "metadata": {},
     "output_type": "execute_result"
    }
   ],
   "source": [
    "tki.infer_on_relevance_results(infer_config.relevance_dir['Text'], kpi_df)"
   ]
  },
  {
   "cell_type": "code",
   "execution_count": 16,
   "id": "388d7a54-19fc-452e-b5a2-e07a8fbe79b6",
   "metadata": {
    "execution": {
     "iopub.execute_input": "2022-07-02T00:31:43.123960Z",
     "iopub.status.busy": "2022-07-02T00:31:43.123531Z",
     "iopub.status.idle": "2022-07-02T00:31:43.242452Z",
     "shell.execute_reply": "2022-07-02T00:31:43.241726Z"
    },
    "papermill": {
     "duration": 0.129255,
     "end_time": "2022-07-02T00:31:43.244364",
     "exception": false,
     "start_time": "2022-07-02T00:31:43.115109",
     "status": "completed"
    },
    "tags": []
   },
   "outputs": [],
   "source": [
    "if os.getenv(\"AUTOMATION\"):\n",
    "    # upload the predicted files to s3\n",
    "    s3c.upload_files_in_dir_to_prefix(\n",
    "        infer_config.result_dir['Text'],\n",
    "        config.BASE_INFER_KPI_S3_PREFIX\n",
    "    )"
   ]
  },
  {
   "cell_type": "markdown",
   "id": "a37bba54-3d44-4080-aaee-ff28390480b4",
   "metadata": {
    "papermill": {
     "duration": 0.007055,
     "end_time": "2022-07-02T00:31:43.258855",
     "exception": false,
     "start_time": "2022-07-02T00:31:43.251800",
     "status": "completed"
    },
    "tags": []
   },
   "source": [
    "# Conclusion\n",
    "This notebook ran the _KPI_ inference on a sample dataset and stored the output in a csv format."
   ]
  }
 ],
 "metadata": {
  "kernelspec": {
   "display_name": "Python 3 (ipykernel)",
   "language": "python",
   "name": "python3"
  },
  "language_info": {
   "codemirror_mode": {
    "name": "ipython",
    "version": 3
   },
   "file_extension": ".py",
   "mimetype": "text/x-python",
   "name": "python",
   "nbconvert_exporter": "python",
   "pygments_lexer": "ipython3",
   "version": "3.8.8"
  },
  "papermill": {
   "default_parameters": {},
   "duration": 75.749055,
   "end_time": "2022-07-02T00:31:44.387648",
   "environment_variables": {},
   "exception": null,
   "input_path": "/opt/app-root/src/aicoe-osc-demo/notebooks/demo2/infer_kpi.ipynb",
   "output_path": "/opt/app-root/src/aicoe-osc-demo/notebooks/demo2/infer_kpi.ipynb",
   "parameters": {},
   "start_time": "2022-07-02T00:30:28.638593",
   "version": "2.3.4"
  }
 },
 "nbformat": 4,
 "nbformat_minor": 5
}
